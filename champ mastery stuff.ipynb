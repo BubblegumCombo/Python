{
 "cells": [
  {
   "cell_type": "code",
   "execution_count": 1,
   "metadata": {},
   "outputs": [],
   "source": [
    "import numpy as np\n",
    "import pandas as pd\n",
    "import requests as rq\n",
    "\n",
    "from pandas import Series, DataFrame\n",
    "\n",
    "apiKey = \"RGAPI-a68686a4-c87d-4c24-80bf-1d6525d1547d\"\n",
    "\n",
    "#yas champ ID 157\n",
    "\n",
    "#m=rq.get(\"https://na1.api.riotgames.com/lol/champion-mastery/v4/champion-masteries/by-summoner/4Ea6A2Wf7C6b1-9vO1jvSBHam9p2wAiQ5S7Z5fTomp5PVQM?api_key=\"+apiKey).json()\n",
    "\n",
    "#s= rq.get(\"https://na1.api.riotgames.com/lol/summoner/v4/summoners/by-name/BubblegumCombo?api_key=\"+apiKey).json()\n",
    "\n",
    "\n",
    "def sum_id(name):\n",
    "    #will return ENCRYPTED summoner ID to use in basically every API call tbh\n",
    "    s= rq.get(\"https://na1.api.riotgames.com/lol/summoner/v4/summoners/by-name/\"+name+\"?api_key=\"+apiKey).json()\n",
    "\n",
    "    return s[\"id\"]\n",
    "    \n",
    "def champ_mast(name):\n",
    "    #Will show a lot of information i don't know how to use yet for champ mastery\n",
    "    ID=sum_id(name)\n",
    "    \n",
    "    m=rq.get(\"https://na1.api.riotgames.com/lol/champion-mastery/v4/champion-masteries/by-summoner/\"+ID+\"?api_key=\"+apiKey)\n",
    "    if m.status_code==200:\n",
    "        print (\"good job it worked\")\n",
    "    else:\n",
    "        print (\"you messed something up\")\n",
    "    frame=DataFrame(m.json())\n",
    "    \n",
    "    return frame"
   ]
  },
  {
   "cell_type": "code",
   "execution_count": 2,
   "metadata": {},
   "outputs": [
    {
     "name": "stdout",
     "output_type": "stream",
     "text": [
      "5KZLz4nFp8Nza0meyaUhzrt5bG8gbA4z7olsrwyYGPvEsgc\n"
     ]
    }
   ],
   "source": [
    "print (sum_id(\"Spin\"))"
   ]
  },
  {
   "cell_type": "code",
   "execution_count": 3,
   "metadata": {},
   "outputs": [
    {
     "name": "stdout",
     "output_type": "stream",
     "text": [
      "good job it worked\n",
      "     championId  championLevel  championPoints   lastPlayTime  \\\n",
      "0           157              7         4568961  1641972379000   \n",
      "1           238              7          886936  1640059839000   \n",
      "2           236              7          274376  1641880983000   \n",
      "3           777              6          262718  1641980547000   \n",
      "4            55              7          224129  1641425897000   \n",
      "..          ...            ...             ...            ...   \n",
      "142          72              1             118  1527212407000   \n",
      "143         166              1             116  1640929268000   \n",
      "144         106              1             116  1492764605000   \n",
      "145          56              1             114  1498846589000   \n",
      "146         113              1             111  1607936468000   \n",
      "\n",
      "     championPointsSinceLastLevel  championPointsUntilNextLevel  chestGranted  \\\n",
      "0                         4547361                             0         False   \n",
      "1                          865336                             0         False   \n",
      "2                          252776                             0         False   \n",
      "3                          241118                             0         False   \n",
      "4                          202529                             0         False   \n",
      "..                            ...                           ...           ...   \n",
      "142                           118                          1682         False   \n",
      "143                           116                          1684         False   \n",
      "144                           116                          1684         False   \n",
      "145                           114                          1686         False   \n",
      "146                           111                          1689         False   \n",
      "\n",
      "     tokensEarned                                       summonerId  \n",
      "0               0  5KZLz4nFp8Nza0meyaUhzrt5bG8gbA4z7olsrwyYGPvEsgc  \n",
      "1               0  5KZLz4nFp8Nza0meyaUhzrt5bG8gbA4z7olsrwyYGPvEsgc  \n",
      "2               0  5KZLz4nFp8Nza0meyaUhzrt5bG8gbA4z7olsrwyYGPvEsgc  \n",
      "3               1  5KZLz4nFp8Nza0meyaUhzrt5bG8gbA4z7olsrwyYGPvEsgc  \n",
      "4               0  5KZLz4nFp8Nza0meyaUhzrt5bG8gbA4z7olsrwyYGPvEsgc  \n",
      "..            ...                                              ...  \n",
      "142             0  5KZLz4nFp8Nza0meyaUhzrt5bG8gbA4z7olsrwyYGPvEsgc  \n",
      "143             0  5KZLz4nFp8Nza0meyaUhzrt5bG8gbA4z7olsrwyYGPvEsgc  \n",
      "144             0  5KZLz4nFp8Nza0meyaUhzrt5bG8gbA4z7olsrwyYGPvEsgc  \n",
      "145             0  5KZLz4nFp8Nza0meyaUhzrt5bG8gbA4z7olsrwyYGPvEsgc  \n",
      "146             0  5KZLz4nFp8Nza0meyaUhzrt5bG8gbA4z7olsrwyYGPvEsgc  \n",
      "\n",
      "[147 rows x 9 columns]\n"
     ]
    }
   ],
   "source": [
    "print (champ_mast(\"Spin\"))"
   ]
  },
  {
   "cell_type": "code",
   "execution_count": 4,
   "metadata": {},
   "outputs": [
    {
     "ename": "SyntaxError",
     "evalue": "invalid syntax (<ipython-input-4-07fefa0e9437>, line 1)",
     "output_type": "error",
     "traceback": [
      "\u001b[1;36m  File \u001b[1;32m\"<ipython-input-4-07fefa0e9437>\"\u001b[1;36m, line \u001b[1;32m1\u001b[0m\n\u001b[1;33m    https://na1.api.riotgames.com/lol/league/v4/entries/by-summoner/4Ea6A2Wf7C6b1-9vO1jvSBHam9p2wAiQ5S7Z5fTomp5PVQM?api_key=RGAPI-a68686a4-c87d-4c24-80bf-1d6525d1547d\u001b[0m\n\u001b[1;37m           ^\u001b[0m\n\u001b[1;31mSyntaxError\u001b[0m\u001b[1;31m:\u001b[0m invalid syntax\n"
     ]
    }
   ],
   "source": [
    "https://na1.api.riotgames.com/lol/league/v4/entries/by-summoner/4Ea6A2Wf7C6b1-9vO1jvSBHam9p2wAiQ5S7Z5fTomp5PVQM?api_key=RGAPI-a68686a4-c87d-4c24-80bf-1d6525d1547d"
   ]
  },
  {
   "cell_type": "code",
   "execution_count": null,
   "metadata": {},
   "outputs": [],
   "source": []
  }
 ],
 "metadata": {
  "kernelspec": {
   "display_name": "Python 3",
   "language": "python",
   "name": "python3"
  },
  "language_info": {
   "codemirror_mode": {
    "name": "ipython",
    "version": 3
   },
   "file_extension": ".py",
   "mimetype": "text/x-python",
   "name": "python",
   "nbconvert_exporter": "python",
   "pygments_lexer": "ipython3",
   "version": "3.7.4"
  }
 },
 "nbformat": 4,
 "nbformat_minor": 2
}
